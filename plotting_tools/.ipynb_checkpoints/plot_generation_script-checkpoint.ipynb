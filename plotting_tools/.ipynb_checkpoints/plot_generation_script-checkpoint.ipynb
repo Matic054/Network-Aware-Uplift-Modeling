{
 "cells": [
  {
   "cell_type": "code",
   "execution_count": null,
   "id": "8179a8a8-6dbc-4f00-a9ee-9c7764069e4d",
   "metadata": {},
   "outputs": [],
   "source": [
    "import networkx as nx\n",
    "import matplotlib.pyplot as plt\n",
    "import numpy as np\n",
    "\n",
    "# Number of nodes\n",
    "n = 10000\n",
    "\n",
    "# Parameters for BA network\n",
    "m = 10  # edges per new node\n",
    "G_ba = nx.barabasi_albert_graph(n, m)\n",
    "\n",
    "# Calculate number of edges in BA network\n",
    "num_edges = G_ba.number_of_edges()\n",
    "\n",
    "# For ER network, we need to match edges\n",
    "# Expected edges in ER: p * n * (n - 1) / 2 = num_edges\n",
    "p = (2 * num_edges) / (n * (n - 1))\n",
    "G_er = nx.erdos_renyi_graph(n, p)\n",
    "\n",
    "# Extract degree sequences\n",
    "degrees_ba = [deg for _, deg in G_ba.degree()]\n",
    "degrees_er = [deg for _, deg in G_er.degree()]\n",
    "\n",
    "# Get degree counts\n",
    "deg_vals_ba, freq_ba = np.unique(degrees_ba, return_counts=True)\n",
    "deg_vals_er, freq_er = np.unique(degrees_er, return_counts=True)\n",
    "\n",
    "# Plot\n",
    "plt.figure(figsize=(8, 6))\n",
    "\n",
    "plt.scatter(deg_vals_ba, freq_ba, alpha=0.7, label=\"Barabási–Albert\", color='tab:blue', s=20)\n",
    "plt.scatter(deg_vals_er, freq_er, alpha=0.7, label=\"Erdős–Rényi\", color='tab:orange', s=20)\n",
    "\n",
    "plt.xlabel(\"Degree\")\n",
    "plt.ylabel(\"Frequency\")\n",
    "plt.legend()\n",
    "plt.grid(True, which=\"both\", ls=\"--\", lw=0.5)\n",
    "plt.tight_layout()\n",
    "plt.tight_layout()\n",
    "\n",
    "# Save as PNG before showing\n",
    "plt.savefig(\"degree_distribution.png\", dpi=300, bbox_inches='tight')\n",
    "plt.show()"
   ]
  },
  {
   "cell_type": "code",
   "execution_count": null,
   "id": "cc441550-4d24-4a00-98ee-e6fbe134ac35",
   "metadata": {},
   "outputs": [],
   "source": []
  }
 ],
 "metadata": {
  "kernelspec": {
   "display_name": "Python 3 (ipykernel)",
   "language": "python",
   "name": "python3"
  },
  "language_info": {
   "codemirror_mode": {
    "name": "ipython",
    "version": 3
   },
   "file_extension": ".py",
   "mimetype": "text/x-python",
   "name": "python",
   "nbconvert_exporter": "python",
   "pygments_lexer": "ipython3",
   "version": "3.12.2"
  }
 },
 "nbformat": 4,
 "nbformat_minor": 5
}
