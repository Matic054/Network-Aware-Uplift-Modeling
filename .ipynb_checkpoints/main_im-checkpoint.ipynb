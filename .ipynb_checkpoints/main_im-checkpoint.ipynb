{
 "cells": [
  {
   "cell_type": "code",
   "execution_count": 1,
   "id": "ef490b59-59c6-435f-aee5-bc41b21866f6",
   "metadata": {},
   "outputs": [],
   "source": [
    "from graph_generation.generate_graph import generate_erdos_renyi_graph, generate_erdos_renyi_attribute_graph, generate_barabasi_albert_graph,generate_barabasi_albert_attribute_graph\n",
    "from diffusion_models.edge_probabilities import generate_edge_probabilities\n",
    "from diffusion_models.independent_cascade import independent_cascade, optimized_independent_cascade\n",
    "from influence_maximization.im import im_ic, im_diff\n",
    "from training.train_gnn import train_gnn\n",
    "from training.train_edge_gnn import train_diffusion_pipeline\n",
    "from training.train_edge_gnn import train_diffusion_gnn\n",
    "import numpy as np\n",
    "import networkx as nx\n",
    "import torch\n",
    "from torch_geometric.utils import from_networkx\n",
    "from torch_geometric.data import Data\n",
    "from models.gnn_model import LearnableDiffusionGNN\n",
    "from models.gnn_model import MultiplicativeDiffusionGNN\n",
    "from models.gnn_model import StructureAwareEdgeGNN\n",
    "from training.train_edge_gnn import train_edge_model_with_diffusion\n",
    "from models.gnn_model import EdgeGNN\n",
    "from models.gnn_model import EdgeGAT\n",
    "from models.gnn_model import simpleEdgePrediction\n",
    "import torch.nn.functional as F\n",
    "import matplotlib.pyplot as plt\n",
    "from sklearn.metrics import roc_curve, roc_auc_score\n",
    "size_x=10\n",
    "size_y=3.5"
   ]
  },
  {
   "cell_type": "markdown",
   "id": "ed9a0346-a805-43d2-b8eb-3f04f9c1207a",
   "metadata": {},
   "source": [
    "# Generate the data and train the difussion model"
   ]
  },
  {
   "cell_type": "code",
   "execution_count": 3,
   "id": "add4a8ca-3d9e-4da0-9981-5f6e19bd616b",
   "metadata": {},
   "outputs": [
    {
     "name": "stdout",
     "output_type": "stream",
     "text": [
      "Epoch 0, Loss: 0.0000\n",
      "Epoch 10, Loss: 0.0000\n",
      "Epoch 20, Loss: 0.0000\n",
      "Epoch 30, Loss: 0.0000\n",
      "Epoch 40, Loss: 0.0000\n",
      "Epoch 50, Loss: 0.0000\n",
      "Epoch 60, Loss: 0.0000\n",
      "Epoch 70, Loss: 0.0000\n",
      "Epoch 80, Loss: 0.0000\n",
      "Epoch 90, Loss: 0.0000\n",
      "Epoch 100, Loss: 0.0000\n",
      "Epoch 110, Loss: 0.0000\n",
      "Epoch 120, Loss: 0.0000\n",
      "Epoch 130, Loss: 0.0000\n",
      "Epoch 140, Loss: 0.0000\n",
      "Epoch 150, Loss: 0.0000\n",
      "Epoch 160, Loss: 0.0000\n",
      "Epoch 170, Loss: 0.0000\n",
      "Epoch 180, Loss: 0.0000\n",
      "Epoch 190, Loss: 0.0000\n",
      "Epoch 199, Loss: 0.0000\n",
      "Test RMSE Loss: 0.0000\n"
     ]
    }
   ],
   "source": [
    "num_nodes=5000\n",
    "edge_prob=0.1\n",
    "\n",
    "G, prior_probs = generate_erdos_renyi_graph(num_nodes, edge_prob, prob_selected = 0.3)\n",
    "\n",
    "edges = list(G.edges())\n",
    "edge_index = torch.tensor(edges, dtype=torch.long).t().contiguous()\n",
    "edge_dict = generate_edge_probabilities(G,method='degree_based',c=1)\n",
    "edge_attr = torch.tensor([edge_dict[(u, v)] for (u, v) in edges], dtype=torch.float)\n",
    "\n",
    "data = Data(x=prior_probs.unsqueeze(1), edge_index=edge_index, edge_attr=edge_attr)\n",
    "\n",
    "trained_model = train_diffusion_gnn(data, optimized_independent_cascade, num_steps=5, epochs=700)\n",
    "\n",
    "#test data\n",
    "G_test, prior_probs_test = generate_erdos_renyi_graph(num_nodes, edge_prob, prob_selected = 0.3)\n",
    "\n",
    "edge_dict_t = generate_edge_probabilities(G_test,method='degree_based',c=1)\n",
    "edges_t = list(G_test.edges())\n",
    "edge_index_t = torch.tensor(edges_t, dtype=torch.long).t().contiguous()\n",
    "edge_attr_t = torch.tensor([edge_dict_t[(u, v)] for (u, v) in edges_t], dtype=torch.float)\n",
    "\n",
    "data_t = Data(x=prior_probs_test.unsqueeze(1), edge_index=edge_index_t, edge_attr=edge_attr_t)\n",
    "\n",
    "trained_model.eval()\n",
    "with torch.no_grad():\n",
    "    predicted_posterior = trained_model(data_t.x, data_t.edge_index, data_t.edge_attr)\n",
    "\n",
    "# Compare predicted_posterior with true_posterior\n",
    "ic = optimized_independent_cascade(G_test, prior_probs_test, edge_dict_t, 1000)\n",
    "device = torch.device('cuda' if torch.cuda.is_available() else 'cpu')\n",
    "true_posterior_tensor = torch.tensor(\n",
    "    [ic[node] for node in ic],\n",
    "    dtype=torch.float,\n",
    "    device=device\n",
    ").view(-1, 1)\n",
    "rmse_loss = torch.nn.MSELoss()(predicted_posterior, true_posterior_tensor)\n",
    "print(f\"Test RMSE Loss: {rmse_loss.item()**0.5:.4f}\")"
   ]
  },
  {
   "cell_type": "markdown",
   "id": "aade8f5a-06ca-486b-84d0-fb0e661181d9",
   "metadata": {},
   "source": [
    "# IM with IC"
   ]
  },
  {
   "cell_type": "code",
   "execution_count": 32,
   "id": "742ddd66-d87d-4f47-88ae-61b007ac0314",
   "metadata": {},
   "outputs": [
    {
     "name": "stdout",
     "output_type": "stream",
     "text": [
      "The best score withic is: 194.00299072265625, and the seed set is: [152, 16, 45, 99, 124]\n"
     ]
    }
   ],
   "source": [
    "prior_probs = torch.zeros(G.number_of_nodes())\n",
    "S_ic, score_ic = im_ic(G=G, k=5, edge_probs=edge_dict, num_sim=1000)\n",
    "print(f\"The best score withic is: {score_ic}, and the seed set is: {S_ic}\")"
   ]
  },
  {
   "cell_type": "markdown",
   "id": "f2ef1907-c945-4620-ab06-d1fc679c5d1c",
   "metadata": {},
   "source": [
    "# IM with the difussion model"
   ]
  },
  {
   "cell_type": "code",
   "execution_count": 30,
   "id": "6d254345-7d50-439a-82f0-76b70ac1f569",
   "metadata": {},
   "outputs": [
    {
     "name": "stdout",
     "output_type": "stream",
     "text": [
      "The best score with ic is: 194.0428009033203, and the seed set is: [16, 69, 150, 67, 109]\n"
     ]
    }
   ],
   "source": [
    "prior_probs = torch.zeros(G.number_of_nodes())\n",
    "S_m, score_m = im_diff(G=G, k=5, data=data, diff_model=trained_model, num_sim=100)\n",
    "print(f\"The best score with ic is: {score_m}, and the seed set is: {S_m}\")"
   ]
  },
  {
   "cell_type": "code",
   "execution_count": 31,
   "id": "eab2764c-26ac-4f55-b126-aaf2f5346a24",
   "metadata": {},
   "outputs": [
    {
     "data": {
      "text/plain": [
       "tensor(194.1020)"
      ]
     },
     "execution_count": 31,
     "metadata": {},
     "output_type": "execute_result"
    }
   ],
   "source": [
    "prior_probs[S_m] = 1\n",
    "ic=independent_cascade(G, prior_probs, edge_dict, 1000)\n",
    "torch.tensor([ic[v] for v in ic]).sum()"
   ]
  },
  {
   "cell_type": "code",
   "execution_count": null,
   "id": "872b4ac3-c135-4444-8944-0231046ddf88",
   "metadata": {},
   "outputs": [],
   "source": []
  }
 ],
 "metadata": {
  "kernelspec": {
   "display_name": "Python 3 (ipykernel)",
   "language": "python",
   "name": "python3"
  },
  "language_info": {
   "codemirror_mode": {
    "name": "ipython",
    "version": 3
   },
   "file_extension": ".py",
   "mimetype": "text/x-python",
   "name": "python",
   "nbconvert_exporter": "python",
   "pygments_lexer": "ipython3",
   "version": "3.12.2"
  }
 },
 "nbformat": 4,
 "nbformat_minor": 5
}
